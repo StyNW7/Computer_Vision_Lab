{
 "cells": [
  {
   "cell_type": "markdown",
   "id": "0bd57f6c",
   "metadata": {},
   "source": [
    "# Import Library"
   ]
  },
  {
   "cell_type": "code",
   "execution_count": null,
   "id": "fabbfe2d",
   "metadata": {},
   "outputs": [],
   "source": [
    "import cv2\n",
    "import numpy as np\n",
    "import os\n",
    "from matplotlib import pyplot as pyplot"
   ]
  },
  {
   "cell_type": "markdown",
   "id": "365aef50",
   "metadata": {},
   "source": [
    "# Directory Path"
   ]
  },
  {
   "cell_type": "code",
   "execution_count": null,
   "id": "ddd1c0ab",
   "metadata": {},
   "outputs": [],
   "source": [
    "target_path = './Images/Object.png'\n",
    "data_folder = './Images/Data/'"
   ]
  },
  {
   "cell_type": "markdown",
   "id": "9c1dc6d6",
   "metadata": {},
   "source": [
    "# Preprocessing"
   ]
  },
  {
   "cell_type": "code",
   "execution_count": null,
   "id": "97bcc668",
   "metadata": {},
   "outputs": [],
   "source": [
    "def preprocess_v1(img):\n",
    "    gray = cv2.cvtColor(img, cv2.COLOR_BGR2GRAY)\n",
    "    eq = cv2.equalizeHist(gray)\n",
    "    blur = cv2.medianBlur(eq, 5)\n",
    "    return blur\n",
    "\n",
    "def preprocess_v2(img):\n",
    "    gray = cv2.cvtColor(img, cv2.COLOR_BGR2GRAY)\n",
    "    eq = cv2.equalizeHist(gray)\n",
    "    blur = cv2.GaussianBlur(eq, (3, 3), 0)\n",
    "    return blur"
   ]
  },
  {
   "cell_type": "markdown",
   "id": "91b3f412",
   "metadata": {},
   "source": [
    "# Find Best Match"
   ]
  },
  {
   "cell_type": "code",
   "execution_count": null,
   "id": "41187589",
   "metadata": {},
   "outputs": [],
   "source": [
    "def find_best_match(preprocess_func, title):\n",
    "\n",
    "    target = cv2.imread(target_path)\n",
    "    target = cv2.cvtColor(target, cv2.COLOR_BGR2GRAY)\n",
    "\n",
    "    target_gray = preprocess_func(target)\n",
    "\n",
    "    \n",
    "\n",
    "\n"
   ]
  }
 ],
 "metadata": {
  "kernelspec": {
   "display_name": "Python 3",
   "language": "python",
   "name": "python3"
  },
  "language_info": {
   "name": "python",
   "version": "3.12.1"
  }
 },
 "nbformat": 4,
 "nbformat_minor": 5
}
